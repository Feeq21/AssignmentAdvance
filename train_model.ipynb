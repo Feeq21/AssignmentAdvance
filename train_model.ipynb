{
 "cells": [
  {
   "cell_type": "code",
   "execution_count": 4,
   "metadata": {},
   "outputs": [
    {
     "name": "stdout",
     "output_type": "stream",
     "text": [
      "2.7.0\n"
     ]
    }
   ],
   "source": [
    "import tensorflow as tf\n",
    "import numpy as np\n",
    "from sklearn.model_selection import train_test_split\n",
    "import matplotlib.pyplot as plt\n",
    "\n",
    "print(tf.__version__)\n"
   ]
  },
  {
   "cell_type": "code",
   "execution_count": 15,
   "metadata": {},
   "outputs": [
    {
     "ename": "KeyError",
     "evalue": "'labelnames is not a file in the archive'",
     "output_type": "error",
     "traceback": [
      "\u001b[1;31m---------------------------------------------------------------------------\u001b[0m",
      "\u001b[1;31mKeyError\u001b[0m                                  Traceback (most recent call last)",
      "\u001b[1;32m~\\AppData\\Local\\Temp/ipykernel_7420/279542301.py\u001b[0m in \u001b[0;36m<module>\u001b[1;34m\u001b[0m\n\u001b[0;32m      4\u001b[0m     \u001b[0mdataImages\u001b[0m \u001b[1;33m=\u001b[0m \u001b[0mdata\u001b[0m\u001b[1;33m[\u001b[0m\u001b[1;34m'images'\u001b[0m\u001b[1;33m]\u001b[0m\u001b[1;33m\u001b[0m\u001b[1;33m\u001b[0m\u001b[0m\n\u001b[0;32m      5\u001b[0m     \u001b[0mdataLabel\u001b[0m \u001b[1;33m=\u001b[0m \u001b[0mdata\u001b[0m\u001b[1;33m[\u001b[0m\u001b[1;34m'labels'\u001b[0m\u001b[1;33m]\u001b[0m\u001b[1;33m\u001b[0m\u001b[1;33m\u001b[0m\u001b[0m\n\u001b[1;32m----> 6\u001b[1;33m     \u001b[0mdataLabelNames\u001b[0m \u001b[1;33m=\u001b[0m \u001b[0mdata\u001b[0m\u001b[1;33m[\u001b[0m\u001b[1;34m'labelnames'\u001b[0m\u001b[1;33m]\u001b[0m\u001b[1;33m\u001b[0m\u001b[1;33m\u001b[0m\u001b[0m\n\u001b[0m\u001b[0;32m      7\u001b[0m \u001b[1;33m\u001b[0m\u001b[0m\n\u001b[0;32m      8\u001b[0m \u001b[0mprint\u001b[0m\u001b[1;33m(\u001b[0m\u001b[0mdataImages\u001b[0m\u001b[1;33m.\u001b[0m\u001b[0mshape\u001b[0m\u001b[1;33m)\u001b[0m\u001b[1;33m\u001b[0m\u001b[1;33m\u001b[0m\u001b[0m\n",
      "\u001b[1;32md:\\KOTOCLASS\\secondmonth\\cv-master\\env37\\lib\\site-packages\\numpy\\lib\\npyio.py\u001b[0m in \u001b[0;36m__getitem__\u001b[1;34m(self, key)\u001b[0m\n\u001b[0;32m    258\u001b[0m                 \u001b[1;32mreturn\u001b[0m \u001b[0mself\u001b[0m\u001b[1;33m.\u001b[0m\u001b[0mzip\u001b[0m\u001b[1;33m.\u001b[0m\u001b[0mread\u001b[0m\u001b[1;33m(\u001b[0m\u001b[0mkey\u001b[0m\u001b[1;33m)\u001b[0m\u001b[1;33m\u001b[0m\u001b[1;33m\u001b[0m\u001b[0m\n\u001b[0;32m    259\u001b[0m         \u001b[1;32melse\u001b[0m\u001b[1;33m:\u001b[0m\u001b[1;33m\u001b[0m\u001b[1;33m\u001b[0m\u001b[0m\n\u001b[1;32m--> 260\u001b[1;33m             \u001b[1;32mraise\u001b[0m \u001b[0mKeyError\u001b[0m\u001b[1;33m(\u001b[0m\u001b[1;34m\"%s is not a file in the archive\"\u001b[0m \u001b[1;33m%\u001b[0m \u001b[0mkey\u001b[0m\u001b[1;33m)\u001b[0m\u001b[1;33m\u001b[0m\u001b[1;33m\u001b[0m\u001b[0m\n\u001b[0m\u001b[0;32m    261\u001b[0m \u001b[1;33m\u001b[0m\u001b[0m\n\u001b[0;32m    262\u001b[0m \u001b[1;33m\u001b[0m\u001b[0m\n",
      "\u001b[1;31mKeyError\u001b[0m: 'labelnames is not a file in the archive'"
     ]
    }
   ],
   "source": [
    "datasetfilename = 'cvdataset.npz'\n",
    "\n",
    "with np.load(datasetfilename, allow_pickle=True) as data:\n",
    "    dataImages = data['images']\n",
    "    dataLabel = data['labels']\n",
    "    dataLabelNames = data['labelnames']\n",
    "    \n",
    "print(dataImages.shape)\n",
    "print(dataLabel.shape)\n",
    "#print(dataLabelNames.shape)"
   ]
  },
  {
   "cell_type": "code",
   "execution_count": 4,
   "metadata": {},
   "outputs": [
    {
     "ename": "NameError",
     "evalue": "name 'dataLabelNames' is not defined",
     "output_type": "error",
     "traceback": [
      "\u001b[1;31m---------------------------------------------------------------------------\u001b[0m",
      "\u001b[1;31mNameError\u001b[0m                                 Traceback (most recent call last)",
      "\u001b[1;32m~\\AppData\\Local\\Temp/ipykernel_2792/2723173784.py\u001b[0m in \u001b[0;36m<module>\u001b[1;34m\u001b[0m\n\u001b[1;32m----> 1\u001b[1;33m \u001b[0mdataImages\u001b[0m\u001b[1;33m.\u001b[0m\u001b[0mdtype\u001b[0m\u001b[1;33m,\u001b[0m \u001b[0mdataLabel\u001b[0m\u001b[1;33m.\u001b[0m\u001b[0mdtype\u001b[0m\u001b[1;33m,\u001b[0m \u001b[0mdataLabelNames\u001b[0m\u001b[1;33m.\u001b[0m\u001b[0mdtype\u001b[0m\u001b[1;33m\u001b[0m\u001b[1;33m\u001b[0m\u001b[0m\n\u001b[0m",
      "\u001b[1;31mNameError\u001b[0m: name 'dataLabelNames' is not defined"
     ]
    }
   ],
   "source": [
    "dataImages.dtype, dataLabel.dtype, dataLabelNames.dtype"
   ]
  },
  {
   "cell_type": "code",
   "execution_count": 23,
   "metadata": {},
   "outputs": [
    {
     "name": "stdout",
     "output_type": "stream",
     "text": [
      "[0 1 2 3 4 5 6 7 8 1 2 4 6 7 8 1 2 3 4 5 6 7 0 1 4 5 6 7 8 0 1 4 5 6 7 8]\n",
      "['afiq' 'azureen' 'gavin' 'goke' 'inamul' 'jincheng' 'mahmuda' 'numan'\n",
      " 'saseendran' 'azureen' 'gavin' 'inamul' 'mahmuda' 'numan' 'saseendran'\n",
      " 'azureen' 'gavin' 'goke' 'inamul' 'jincheng' 'mahmuda' 'numan' 'afiq'\n",
      " 'azureen' 'inamul' 'jincheng' 'mahmuda' 'numan' 'saseendran' 'afiq'\n",
      " 'azureen' 'inamul' 'jincheng' 'mahmuda' 'numan' 'saseendran']\n"
     ]
    }
   ],
   "source": [
    "print(dataLabel)\n",
    "print(dataLabelNames)"
   ]
  },
  {
   "cell_type": "code",
   "execution_count": 24,
   "metadata": {},
   "outputs": [
    {
     "name": "stdout",
     "output_type": "stream",
     "text": [
      "['afiq', 'azureen', 'gavin', 'goke', 'inamul', 'jincheng', 'mahmuda', 'numan', 'saseendran']\n"
     ]
    }
   ],
   "source": [
    "classNames = sorted(np.unique(dataLabelNames))\n",
    "print(classNames)"
   ]
  },
  {
   "cell_type": "code",
   "execution_count": 25,
   "metadata": {},
   "outputs": [],
   "source": [
    "import cv2 as cv\n",
    "\n",
    "N = len(dataImages)\n",
    "shape = (N, 200,200,3)\n",
    "\n",
    "y = np.empty(shape, dtype='uint8')\n",
    "\n",
    "for i in range(N):\n",
    "    y[i] = cv.resize(dataImages[i], [200,200], interpolation=cv.INTER_NEAREST)\n",
    "    \n",
    "dataImages.dtype, y.dtype, y.shape\n",
    "\n",
    "dataImages = y"
   ]
  },
  {
   "cell_type": "code",
   "execution_count": 26,
   "metadata": {},
   "outputs": [
    {
     "name": "stdout",
     "output_type": "stream",
     "text": [
      "(36, 200, 200, 3)\n",
      "[0 1 2 3 4 5 6 7 8 1 2 4 6 7 8 1 2 3 4 5 6 7 0 1 4 5 6 7 8 0 1 4 5 6 7 8]\n",
      "(25, 200, 200, 3)\n",
      "(11, 200, 200, 3)\n",
      "[8 7 6 1 2 4 7 6 8 3 1]\n"
     ]
    }
   ],
   "source": [
    "# Split the data to train and test\n",
    "trainImages, testImages, trainLabels, testLabels = train_test_split(dataImages, dataLabel, test_size=0.3, random_state=42)\n",
    "\n",
    "print(dataImages.shape)\n",
    "print(dataLabel)\n",
    "\n",
    "print(trainImages.shape)\n",
    "print(testImages.shape)\n",
    "print(testLabels)"
   ]
  },
  {
   "cell_type": "code",
   "execution_count": 27,
   "metadata": {},
   "outputs": [],
   "source": [
    "# classNames = sorted(np.unique(dataLabelNames))\n",
    "# dataLabel[0]"
   ]
  },
  {
   "cell_type": "code",
   "execution_count": 28,
   "metadata": {},
   "outputs": [],
   "source": [
    "# plt.figure()\n",
    "\n",
    "# i = 0\n",
    "# plt.imshow(trainImages[i])\n",
    "# plt.title(f'{trainLabels[i]}')\n",
    "# # plt.xlabel(classNames[dataLabel[i]])\n",
    "# plt.show()"
   ]
  },
  {
   "cell_type": "code",
   "execution_count": 29,
   "metadata": {},
   "outputs": [
    {
     "name": "stdout",
     "output_type": "stream",
     "text": [
      "(200, 200, 3)\n",
      "(200, 200, 3)\n"
     ]
    }
   ],
   "source": [
    "import numpy as np\n",
    "\n",
    "print(trainImages[0].shape)\n",
    "print(trainImages[1].shape)"
   ]
  },
  {
   "cell_type": "code",
   "execution_count": 30,
   "metadata": {},
   "outputs": [],
   "source": [
    "for i in range(len(trainImages)):\n",
    "    trainImages[i] = cv.resize(trainImages[i], [200,200], interpolation=cv.INTER_NEAREST)\n"
   ]
  },
  {
   "cell_type": "code",
   "execution_count": 31,
   "metadata": {},
   "outputs": [
    {
     "data": {
      "text/plain": [
       "((200, 200, 3), 9)"
      ]
     },
     "execution_count": 31,
     "metadata": {},
     "output_type": "execute_result"
    }
   ],
   "source": [
    "inputShape = trainImages[0].shape\n",
    "outputShape = len(classNames)\n",
    "\n",
    "inputShape, outputShape"
   ]
  },
  {
   "cell_type": "code",
   "execution_count": 32,
   "metadata": {},
   "outputs": [],
   "source": [
    "trainImages = trainImages / 255\n",
    "testImages = testImages / 255"
   ]
  },
  {
   "cell_type": "code",
   "execution_count": 33,
   "metadata": {},
   "outputs": [
    {
     "name": "stdout",
     "output_type": "stream",
     "text": [
      "Model: \"sequential_1\"\n",
      "_________________________________________________________________\n",
      " Layer (type)                Output Shape              Param #   \n",
      "=================================================================\n",
      " flatten_1 (Flatten)         (None, 120000)            0         \n",
      "                                                                 \n",
      " dense_4 (Dense)             (None, 128)               15360128  \n",
      "                                                                 \n",
      " dense_5 (Dense)             (None, 128)               16512     \n",
      "                                                                 \n",
      " dense_6 (Dense)             (None, 128)               16512     \n",
      "                                                                 \n",
      " dense_7 (Dense)             (None, 9)                 1161      \n",
      "                                                                 \n",
      "=================================================================\n",
      "Total params: 15,394,313\n",
      "Trainable params: 15,394,313\n",
      "Non-trainable params: 0\n",
      "_________________________________________________________________\n"
     ]
    }
   ],
   "source": [
    "import tensorflow as tf\n",
    "\n",
    "model = tf.keras.Sequential([\n",
    "    tf.keras.layers.Flatten(input_shape=inputShape),\n",
    "    tf.keras.layers.Dense(128, activation='relu'),\n",
    "    tf.keras.layers.Dense(128, activation='relu'),\n",
    "    tf.keras.layers.Dense(128, activation='relu'),\n",
    "    tf.keras.layers.Dense(outputShape)\n",
    "])\n",
    "\n",
    "model.summary()"
   ]
  },
  {
   "cell_type": "code",
   "execution_count": 34,
   "metadata": {},
   "outputs": [],
   "source": [
    "model.compile(optimizer='adam', loss= tf.keras.losses.SparseCategoricalCrossentropy(from_logits=True), metrics=['accuracy'])"
   ]
  },
  {
   "cell_type": "code",
   "execution_count": 35,
   "metadata": {},
   "outputs": [
    {
     "name": "stdout",
     "output_type": "stream",
     "text": [
      "Epoch 1/10\n",
      "1/1 [==============================] - 1s 719ms/step - loss: 2.2233 - accuracy: 0.1200\n",
      "Epoch 2/10\n",
      "1/1 [==============================] - 0s 98ms/step - loss: 19.7813 - accuracy: 0.3200\n",
      "Epoch 3/10\n",
      "1/1 [==============================] - 0s 93ms/step - loss: 23.9921 - accuracy: 0.2800\n",
      "Epoch 4/10\n",
      "1/1 [==============================] - 0s 106ms/step - loss: 24.2535 - accuracy: 0.1200\n",
      "Epoch 5/10\n",
      "1/1 [==============================] - 0s 96ms/step - loss: 10.9007 - accuracy: 0.2000\n",
      "Epoch 6/10\n",
      "1/1 [==============================] - 0s 109ms/step - loss: 12.5286 - accuracy: 0.2800\n",
      "Epoch 7/10\n",
      "1/1 [==============================] - 0s 99ms/step - loss: 8.1498 - accuracy: 0.4000\n",
      "Epoch 8/10\n",
      "1/1 [==============================] - 0s 95ms/step - loss: 8.2249 - accuracy: 0.4000\n",
      "Epoch 9/10\n",
      "1/1 [==============================] - 0s 102ms/step - loss: 8.0867 - accuracy: 0.0800\n",
      "Epoch 10/10\n",
      "1/1 [==============================] - 0s 103ms/step - loss: 4.7092 - accuracy: 0.5600\n"
     ]
    },
    {
     "data": {
      "text/plain": [
       "<keras.callbacks.History at 0x1f53064e3d0>"
      ]
     },
     "execution_count": 35,
     "metadata": {},
     "output_type": "execute_result"
    }
   ],
   "source": [
    "model.fit(trainImages, trainLabels, epochs=10)"
   ]
  },
  {
   "cell_type": "code",
   "execution_count": 36,
   "metadata": {},
   "outputs": [
    {
     "name": "stdout",
     "output_type": "stream",
     "text": [
      "1/1 - 0s - loss: 5.5695 - accuracy: 0.3636 - 120ms/epoch - 120ms/step\n",
      "\n",
      "Test accuracy: 0.3636363744735718\n"
     ]
    }
   ],
   "source": [
    "testLoss, testAcc = model.evaluate(testImages, testLabels, verbose=2)\n",
    "\n",
    "print('\\nTest accuracy:', testAcc)"
   ]
  },
  {
   "cell_type": "code",
   "execution_count": 37,
   "metadata": {},
   "outputs": [
    {
     "data": {
      "text/plain": [
       "array([ 1.1445051e+01,  9.9271364e+00, -2.3824333e+01,  3.9177230e-03,\n",
       "       -1.3969663e+00,  1.2163013e+01,  7.5254040e+00,  8.8033066e+00,\n",
       "        1.1619005e+01], dtype=float32)"
      ]
     },
     "execution_count": 37,
     "metadata": {},
     "output_type": "execute_result"
    }
   ],
   "source": [
    "predictions = model.predict(testImages)\n",
    "predictions[0]"
   ]
  },
  {
   "cell_type": "code",
   "execution_count": 38,
   "metadata": {},
   "outputs": [
    {
     "data": {
      "text/plain": [
       "(7, 7, True)"
      ]
     },
     "execution_count": 38,
     "metadata": {},
     "output_type": "execute_result"
    }
   ],
   "source": [
    "i = 1\n",
    "predictedLabel = np.argmax(predictions[i])\n",
    "predictedLabel, testLabels[i], predictedLabel == testLabels[i]\n"
   ]
  }
 ],
 "metadata": {
  "interpreter": {
   "hash": "c9dd2b683db0012b822fc70113fe185827d40eabd1f252adf468801410e30d36"
  },
  "kernelspec": {
   "display_name": "Python 3.8.10 64-bit",
   "language": "python",
   "name": "python3"
  },
  "language_info": {
   "codemirror_mode": {
    "name": "ipython",
    "version": 3
   },
   "file_extension": ".py",
   "mimetype": "text/x-python",
   "name": "python",
   "nbconvert_exporter": "python",
   "pygments_lexer": "ipython3",
   "version": "3.7.9"
  },
  "orig_nbformat": 4
 },
 "nbformat": 4,
 "nbformat_minor": 2
}
